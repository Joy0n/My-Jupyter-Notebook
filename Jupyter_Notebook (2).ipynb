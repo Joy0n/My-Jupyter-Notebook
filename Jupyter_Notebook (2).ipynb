{
 "cells": [
  {
   "cell_type": "markdown",
   "metadata": {},
   "source": [
    "<center>\n",
    "    <img src=\"https://cf-courses-data.s3.us.cloud-object-storage.appdomain.cloud/IBMDeveloperSkillsNetwork-DS0105EN-SkillsNetwork/labs/Module2/images/SN_web_lightmode.png\" width=\"300\" alt=\"cognitiveclass.ai logo\">\n",
    "</center>\n"
   ]
  },
  {
   "cell_type": "markdown",
   "metadata": {},
   "source": [
    "#### Add your code below following the instructions given in the course\n"
   ]
  },
  {
   "cell_type": "markdown",
   "metadata": {},
   "source": [
    "# My Jupyter Notebook on IBM Watson Studio"
   ]
  },
  {
   "cell_type": "markdown",
   "metadata": {},
   "source": [
    "__MAKSIM__  \n",
    "Data Scientist"
   ]
  },
  {
   "cell_type": "markdown",
   "metadata": {},
   "source": [
    "_I am interested in data science because it is impressive to identify some patterns from large amounts of data, draw conclusions and use this knowledge for various purposes, depending on the type of data and field of activity._"
   ]
  },
  {
   "cell_type": "markdown",
   "metadata": {},
   "source": [
    "### The code below divides 200 by 5"
   ]
  },
  {
   "cell_type": "code",
   "execution_count": 4,
   "metadata": {},
   "outputs": [
    {
     "name": "stdout",
     "output_type": "stream",
     "text": [
      "40.0\n"
     ]
    }
   ],
   "source": [
    "print(200/5)"
   ]
  },
  {
   "cell_type": "markdown",
   "metadata": {},
   "source": [
    "<ul>\n",
    "    <li>Point 1</li>\n",
    "    <li>Point 2</li>\n",
    "</ul>\n",
    "\n",
    "\n",
    "<ol>\n",
    "    <li>List one</li>\n",
    "    <li>List two</li>\n",
    "</ol>\n",
    "\n",
    "\n",
    "<a href=\"github.com\">This is Github Link</a>\n",
    "\n",
    "\n",
    "<blockquote>This is Blocked Quote</blockquote>\n",
    "\n",
    "<table>\n",
    "    <tr>\n",
    "        <th>Name1</th>\n",
    "        <th>Name2</th>\n",
    "        <th>Name3</th>\n",
    "    </tr>\n",
    "    <tr>\n",
    "        <td>Row1</td>\n",
    "        <td>Row1</td>\n",
    "        <td>Row1</td>\n",
    "    </tr>\n",
    "    <tr>\n",
    "        <td>Row2</td>\n",
    "        <td>Row2</td>\n",
    "        <td>Row2</td>\n",
    "    </tr>\n",
    "<table>"
   ]
  },
  {
   "cell_type": "code",
   "execution_count": null,
   "metadata": {},
   "outputs": [],
   "source": []
  },
  {
   "cell_type": "code",
   "execution_count": null,
   "metadata": {},
   "outputs": [],
   "source": []
  }
 ],
 "metadata": {
  "kernelspec": {
   "display_name": "Python",
   "language": "python",
   "name": "conda-env-python-py"
  },
  "language_info": {
   "codemirror_mode": {
    "name": "ipython",
    "version": 3
   },
   "file_extension": ".py",
   "mimetype": "text/x-python",
   "name": "python",
   "nbconvert_exporter": "python",
   "pygments_lexer": "ipython3",
   "version": "3.7.12"
  }
 },
 "nbformat": 4,
 "nbformat_minor": 4
}

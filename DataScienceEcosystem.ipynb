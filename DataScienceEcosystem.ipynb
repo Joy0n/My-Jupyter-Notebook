{
 "cells": [
  {
   "cell_type": "markdown",
   "id": "9294b46d-9b58-43ff-b5f9-6a266deae6bc",
   "metadata": {},
   "source": [
    "# Data Science Tools and Ecosystem"
   ]
  },
  {
   "cell_type": "markdown",
   "id": "b2727252-84c4-44c1-8f44-36ac984a5a70",
   "metadata": {},
   "source": [
    "In this notebook, Data Science Tools and Ecosystem are summarized."
   ]
  },
  {
   "cell_type": "markdown",
   "id": "a1137324-fd8b-43b8-bba3-ca1b6a530052",
   "metadata": {},
   "source": [
    "Some of the popular languages that Data Scientists use are:\n",
    "<ol>\n",
    "    <li>Python</li>\n",
    "    <li>R</li>\n",
    "    <li>SQL</li>\n",
    "</ol>"
   ]
  },
  {
   "cell_type": "markdown",
   "id": "dd44b4a3-a3ac-46b4-b679-92486b2e7ab0",
   "metadata": {},
   "source": [
    "Some of the commonly used libraries used by Data Scientists include:\n",
    "  * NymPy\n",
    "  * PyTorch\n",
    "  * Pandas\n",
    "  * TensorFlow\n"
   ]
  },
  {
   "cell_type": "markdown",
   "id": "56f8c12a-ee07-4ca0-b0e7-0798ada04ec9",
   "metadata": {},
   "source": [
    "<table>\n",
    "    <tr><th>Data Science Tools<th></tr>\n",
    "    <tr><td>IBM Watson Studio</td></tr>\n",
    "    <tr><td>R-studio</td></tr>\n",
    "    <tr><td>Jupyter Notebooks</td></tr>\n",
    "</table>"
   ]
  },
  {
   "cell_type": "markdown",
   "id": "cee0fe79-a70e-4eba-a4e1-d847bf338e7d",
   "metadata": {},
   "source": [
    "### Below are a few examples of evaluating arithmetic expressions in Python"
   ]
  },
  {
   "cell_type": "code",
   "execution_count": 3,
   "id": "aebca8fb-b1b3-4eaf-a089-db5f0f543e95",
   "metadata": {},
   "outputs": [
    {
     "data": {
      "text/plain": [
       "17"
      ]
     },
     "execution_count": 3,
     "metadata": {},
     "output_type": "execute_result"
    }
   ],
   "source": [
    "# This a simple arithmetic expression to mutiply then add integers\n",
    "(3*4)+5"
   ]
  },
  {
   "cell_type": "code",
   "execution_count": 5,
   "id": "3bff2f35-4847-4605-805a-ef65963084ab",
   "metadata": {},
   "outputs": [
    {
     "data": {
      "text/plain": [
       "3.3333333333333335"
      ]
     },
     "execution_count": 5,
     "metadata": {},
     "output_type": "execute_result"
    }
   ],
   "source": [
    "# This will convert 200 minutes to hours by diving by 60\n",
    "200/60"
   ]
  },
  {
   "cell_type": "markdown",
   "id": "823a68bc-a148-4e0a-9979-e9f0b59ad0a9",
   "metadata": {},
   "source": [
    "__Objectives:__\n",
    "  * List popular languages for Data Science\n",
    "  * Some of the commonly used libraries for Data Science\n",
    "  * Data Science Tools\n",
    "  * Examples of evaluating arithmetic expressions in Python"
   ]
  },
  {
   "cell_type": "markdown",
   "id": "a941cb52-dae0-45af-baac-8f1b20bb92d5",
   "metadata": {},
   "source": [
    "## Author\n",
    "Maksim Sverchkov"
   ]
  }
 ],
 "metadata": {
  "kernelspec": {
   "display_name": "Python",
   "language": "python",
   "name": "conda-env-python-py"
  },
  "language_info": {
   "codemirror_mode": {
    "name": "ipython",
    "version": 3
   },
   "file_extension": ".py",
   "mimetype": "text/x-python",
   "name": "python",
   "nbconvert_exporter": "python",
   "pygments_lexer": "ipython3",
   "version": "3.7.12"
  }
 },
 "nbformat": 4,
 "nbformat_minor": 5
}
